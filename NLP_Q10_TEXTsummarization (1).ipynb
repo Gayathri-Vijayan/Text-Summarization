{
 "cells": [
  {
   "cell_type": "markdown",
   "metadata": {},
   "source": [
    "Loading text file"
   ]
  },
  {
   "cell_type": "code",
   "execution_count": 1,
   "metadata": {},
   "outputs": [
    {
     "name": "stdout",
     "output_type": "stream",
     "text": [
      "The empowerment and autonomy of women and the improvement of their political, social, economic and health status is a highly important end in itself. In addition, it is essential for the achievement of sustainable development. The full participation and partnership of both women and men is required in productive and reproductive life, including shared responsibilities for the care and nurturing of children and maintenance of the household. In all parts of the world, women are facing threats to their lives, health and well- being as a result of being overburdened with work and of their lack of power and influence. In most regions of the world, women receive less formal education than men, and at the same time, women's own knowledge, abilities and coping mechanisms often go unrecognized. The power relations that impede women's attainment of healthy and fulfilling lives operate at many levels of society, from the most personal to the highly public. Achieving change requires policy and programme actions that will improve women's access to secure livelihoods and economic resources, alleviate their extreme responsibilities with regard to housework, remove legal impediments to their participation in public life, and raise social awareness through effective programmes of education and mass communication. In addition, improving the status of women also enhances their decision-making capacity at all levels in all spheres of life, especially in the area of sexuality and reproduction. This, in turn, is essential for the long- term success of population programmes. Experience shows that population and development programmes are most effective when steps have simultaneously been taken to improve the status of women.\n"
     ]
    }
   ],
   "source": [
    "#Read a local text file from disk\n",
    "f=open(\"textfile.txt\")\n",
    "raw=f.read()\n",
    "print(raw)"
   ]
  },
  {
   "cell_type": "markdown",
   "metadata": {},
   "source": [
    "Sentence Tokeization"
   ]
  },
  {
   "cell_type": "code",
   "execution_count": 3,
   "metadata": {},
   "outputs": [
    {
     "name": "stdout",
     "output_type": "stream",
     "text": [
      "['The empowerment and autonomy of women and the improvement of their political, social, economic and health status is a highly important end in itself.', 'In addition, it is essential for the achievement of sustainable development.', 'The full participation and partnership of both women and men is required in productive and reproductive life, including shared responsibilities for the care and nurturing of children and maintenance of the household.', 'In all parts of the world, women are facing threats to their lives, health and well- being as a result of being overburdened with work and of their lack of power and influence.', \"In most regions of the world, women receive less formal education than men, and at the same time, women's own knowledge, abilities and coping mechanisms often go unrecognized.\", \"The power relations that impede women's attainment of healthy and fulfilling lives operate at many levels of society, from the most personal to the highly public.\", \"Achieving change requires policy and programme actions that will improve women's access to secure livelihoods and economic resources, alleviate their extreme responsibilities with regard to housework, remove legal impediments to their participation in public life, and raise social awareness through effective programmes of education and mass communication.\", 'In addition, improving the status of women also enhances their decision-making capacity at all levels in all spheres of life, especially in the area of sexuality and reproduction.', 'This, in turn, is essential for the long- term success of population programmes.', 'Experience shows that population and development programmes are most effective when steps have simultaneously been taken to improve the status of women.']\n"
     ]
    }
   ],
   "source": [
    "import nltk\n",
    "sentence_list = nltk.sent_tokenize(raw)\n",
    "print(sentence_list)"
   ]
  },
  {
   "cell_type": "markdown",
   "metadata": {},
   "source": [
    "Word Frequency"
   ]
  },
  {
   "cell_type": "code",
   "execution_count": 4,
   "metadata": {},
   "outputs": [
    {
     "name": "stdout",
     "output_type": "stream",
     "text": [
      "{'The': 3, 'empowerment': 1, 'autonomy': 1, 'women': 9, 'improvement': 1, 'political': 1, ',': 18, 'social': 2, 'economic': 2, 'health': 2, 'status': 3, 'highly': 2, 'important': 1, 'end': 1, '.': 10, 'In': 4, 'addition': 2, 'essential': 2, 'achievement': 1, 'sustainable': 1, 'development': 2, 'full': 1, 'participation': 2, 'partnership': 1, 'men': 2, 'required': 1, 'productive': 1, 'reproductive': 1, 'life': 3, 'including': 1, 'shared': 1, 'responsibilities': 2, 'care': 1, 'nurturing': 1, 'children': 1, 'maintenance': 1, 'household': 1, 'parts': 1, 'world': 2, 'facing': 1, 'threats': 1, 'lives': 2, 'well-': 1, 'result': 1, 'overburdened': 1, 'work': 1, 'lack': 1, 'power': 2, 'influence': 1, 'regions': 1, 'receive': 1, 'less': 1, 'formal': 1, 'education': 2, 'time': 1, \"'s\": 3, 'knowledge': 1, 'abilities': 1, 'coping': 1, 'mechanisms': 1, 'often': 1, 'go': 1, 'unrecognized': 1, 'relations': 1, 'impede': 1, 'attainment': 1, 'healthy': 1, 'fulfilling': 1, 'operate': 1, 'many': 1, 'levels': 2, 'society': 1, 'personal': 1, 'public': 2, 'Achieving': 1, 'change': 1, 'requires': 1, 'policy': 1, 'programme': 1, 'actions': 1, 'improve': 2, 'access': 1, 'secure': 1, 'livelihoods': 1, 'resources': 1, 'alleviate': 1, 'extreme': 1, 'regard': 1, 'housework': 1, 'remove': 1, 'legal': 1, 'impediments': 1, 'raise': 1, 'awareness': 1, 'effective': 2, 'programmes': 3, 'mass': 1, 'communication': 1, 'improving': 1, 'also': 1, 'enhances': 1, 'decision-making': 1, 'capacity': 1, 'spheres': 1, 'especially': 1, 'area': 1, 'sexuality': 1, 'reproduction': 1, 'This': 1, 'turn': 1, 'long-': 1, 'term': 1, 'success': 1, 'population': 2, 'Experience': 1, 'shows': 1, 'steps': 1, 'simultaneously': 1, 'taken': 1}\n"
     ]
    }
   ],
   "source": [
    "stopwords = nltk.corpus.stopwords.words('english')\n",
    "\n",
    "word_frequencies = {}\n",
    "for word in nltk.word_tokenize(raw):\n",
    "    if word not in stopwords:\n",
    "        if word not in word_frequencies.keys():\n",
    "            word_frequencies[word] = 1\n",
    "        else:\n",
    "            word_frequencies[word] += 1\n",
    "print(word_frequencies)"
   ]
  },
  {
   "cell_type": "code",
   "execution_count": 5,
   "metadata": {},
   "outputs": [],
   "source": [
    "maximum_frequncy = max(word_frequencies.values())\n",
    "\n",
    "for word in word_frequencies.keys():\n",
    "    word_frequencies[word] = (word_frequencies[word]/maximum_frequncy)"
   ]
  },
  {
   "cell_type": "markdown",
   "metadata": {},
   "source": [
    "Senetence Score"
   ]
  },
  {
   "cell_type": "code",
   "execution_count": 6,
   "metadata": {},
   "outputs": [
    {
     "name": "stdout",
     "output_type": "stream",
     "text": [
      "{'The empowerment and autonomy of women and the improvement of their political, social, economic and health status is a highly important end in itself.': 4.0, 'In addition, it is essential for the achievement of sustainable development.': 2.0, \"In most regions of the world, women receive less formal education than men, and at the same time, women's own knowledge, abilities and coping mechanisms often go unrecognized.\": 6.7222222222222205, \"The power relations that impede women's attainment of healthy and fulfilling lives operate at many levels of society, from the most personal to the highly public.\": 3.2777777777777777, 'In addition, improving the status of women also enhances their decision-making capacity at all levels in all spheres of life, especially in the area of sexuality and reproduction.': 4.166666666666665, 'This, in turn, is essential for the long- term success of population programmes.': 3.166666666666666, 'Experience shows that population and development programmes are most effective when steps have simultaneously been taken to improve the status of women.': 2.055555555555556}\n"
     ]
    }
   ],
   "source": [
    "sentence_scores = {}\n",
    "for sent in sentence_list:\n",
    "    for word in nltk.word_tokenize(sent.lower()):\n",
    "        if word in word_frequencies.keys():\n",
    "            if len(sent.split(' ')) < 30:\n",
    "                if sent not in sentence_scores.keys():\n",
    "                    sentence_scores[sent] = word_frequencies[word]\n",
    "                else:\n",
    "                    sentence_scores[sent] += word_frequencies[word]\n",
    "print(sentence_scores)"
   ]
  },
  {
   "cell_type": "markdown",
   "metadata": {},
   "source": [
    "Summarization"
   ]
  },
  {
   "cell_type": "code",
   "execution_count": 7,
   "metadata": {},
   "outputs": [
    {
     "name": "stdout",
     "output_type": "stream",
     "text": [
      "In most regions of the world, women receive less formal education than men, and at the same time, women's own knowledge, abilities and coping mechanisms often go unrecognized. In addition, improving the status of women also enhances their decision-making capacity at all levels in all spheres of life, especially in the area of sexuality and reproduction. The empowerment and autonomy of women and the improvement of their political, social, economic and health status is a highly important end in itself. The power relations that impede women's attainment of healthy and fulfilling lives operate at many levels of society, from the most personal to the highly public. This, in turn, is essential for the long- term success of population programmes. Experience shows that population and development programmes are most effective when steps have simultaneously been taken to improve the status of women. In addition, it is essential for the achievement of sustainable development.\n"
     ]
    }
   ],
   "source": [
    "import heapq\n",
    "s_sent = heapq.nlargest(7, sentence_scores, key=sentence_scores.get)\n",
    "summary = ' '.join(s_sent)\n",
    "print(summary)"
   ]
  },
  {
   "cell_type": "code",
   "execution_count": null,
   "metadata": {},
   "outputs": [],
   "source": []
  }
 ],
 "metadata": {
  "kernelspec": {
   "display_name": "Python 3",
   "language": "python",
   "name": "python3"
  },
  "language_info": {
   "codemirror_mode": {
    "name": "ipython",
    "version": 3
   },
   "file_extension": ".py",
   "mimetype": "text/x-python",
   "name": "python",
   "nbconvert_exporter": "python",
   "pygments_lexer": "ipython3",
   "version": "3.8.3"
  }
 },
 "nbformat": 4,
 "nbformat_minor": 4
}
